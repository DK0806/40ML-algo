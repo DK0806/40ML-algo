{
 "cells": [
  {
   "cell_type": "markdown",
   "metadata": {},
   "source": [
    "## **IMPORT LIBRARIES**"
   ]
  },
  {
   "cell_type": "code",
   "execution_count": null,
   "metadata": {},
   "outputs": [],
   "source": [
    "# importing required libraries\n",
    "import numpy as np\n",
    "import pandas as pd\n",
    "\n",
    "import seaborn as sns\n",
    "import matplotlib.pyplot as plt\n",
    "import time\n",
    "import os\n",
    "from itertools import combinations\n",
    "\n",
    "import pickle\n",
    "from os import path\n",
    "\n",
    "from sklearn.preprocessing import MinMaxScaler\n",
    "from sklearn.preprocessing import StandardScaler\n",
    "from sklearn.preprocessing import LabelEncoder\n",
    "from sklearn.pipeline import Pipeline\n",
    "from sklearn.metrics import ConfusionMatrixDisplay\n",
    "from sklearn.metrics import multilabel_confusion_matrix\n",
    "from sklearn.metrics import confusion_matrix\n",
    "\n",
    "from sklearn import metrics\n",
    "from sklearn import preprocessing\n",
    "from sklearn.metrics import accuracy_score\n",
    "from sklearn.model_selection import train_test_split\n",
    "from sklearn.metrics import classification_report\n",
    "\n",
    "from sklearn.tree import DecisionTreeClassifier\n"
   ]
  },
  {
   "cell_type": "markdown",
   "metadata": {},
   "source": [
    "## **Importing Datasets**"
   ]
  },
  {
   "cell_type": "code",
   "execution_count": null,
   "metadata": {},
   "outputs": [],
   "source": [
    "filename = \"NF-BOT-IOT\"\n",
    "train_data = pd.read_csv('NF-BOT-IOT_train_preprocessed.csv', sep=',', encoding='utf-8')\n",
    "test_data = pd.read_csv('NF-BOT-IOT_test_preprocessed.csv', sep=',', encoding='utf-8')"
   ]
  },
  {
   "cell_type": "code",
   "execution_count": null,
   "metadata": {},
   "outputs": [],
   "source": [
    "X_train = train_data.drop(columns=['label'],axis=1)\n",
    "y_train = train_data['label']\n",
    "X_test = test_data.drop(columns=['label'],axis=1)\n",
    "y_test = test_data['label']"
   ]
  },
  {
   "cell_type": "markdown",
   "metadata": {},
   "source": [
    "## **Feature selection Wrapper Methods**"
   ]
  },
  {
   "cell_type": "code",
   "execution_count": null,
   "metadata": {},
   "outputs": [],
   "source": [
    "# FS_TOOL\n",
    "# No.\tAbbreviation\t                          \tExtra Parameters\n",
    "# *13\thho\tHarris Hawk Optimization\t       \t    No\n",
    "# *12\tssa\tSalp Swarm Algorithm\t \t            No\n",
    "# *11\twoa\tWhale Optimization Algorithm\t    \tYes\n",
    "# *10\tsca\tSine Cosine Algorithm\t            \tYes\n",
    "# *09\tja\tJaya Algorithm\t                    \tNo\n",
    "# *08\tgwo\tGrey Wolf Optimizer\t                \tNo\n",
    "# *07\tfpa\tFlower Pollination Algorithm\t    \tYes\n",
    "# *06\tba\tBat Algorithm\t                    \tYes\n",
    "# *05\tfa\tFirefly Algorithm\t                \tYes\n",
    "# *04\tcs\tCuckoo Search Algorithm\t            \tYes\n",
    "# *03\tde\tDifferential Evolution\t            \tYes\n",
    "# *02\tpso\tParticle Swarm Optimization\t        \tYes\n",
    "# *01\tga\tGenetic Algorithm\t                \tYes"
   ]
  },
  {
   "cell_type": "code",
   "execution_count": null,
   "metadata": {},
   "outputs": [],
   "source": [
    "# %1 of train data taken as input to optimization\n",
    "X_t,temp1,y_t,temp2 = train_test_split(X_train,y_train,train_size=0.01, random_state=7)\n",
    "del temp1,temp2\n",
    "feature_name = filename+\"_FPA_feature.csv\"\n",
    "file = open(feature_name, 'w')\n",
    "file.write(\"optimization,execution time of optimzier,no of feature selected,selected feature \\n\")\n",
    "file.write(\"FPA,\")\n",
    "file.close()"
   ]
  },
  {
   "cell_type": "code",
   "execution_count": null,
   "metadata": {},
   "outputs": [],
   "source": [
    "from FS.fpa import jfs   # change this to switch algorithm \n",
    "# split data into train & validation (70 -- 30)\n",
    "feat = np.asarray(X_t)\n",
    "label= np.asarray(y_t)\n",
    "del X_t,y_t\n",
    "xtrain, xtest, ytrain, ytest = train_test_split(feat, label, test_size=0.3, stratify=label)\n",
    "fold = {'xt':xtrain, 'yt':ytrain, 'xv':xtest, 'yv':ytest}\n",
    "\n",
    "# parameter\n",
    "k    = 5     # k-value in KNN\n",
    "N    = 10    # number of chromosomes\n",
    "T    = 100   # maximum number of generations\n",
    "# Extra parameters of listed methods other than population size / number of solutions and maximum number of iterations\n",
    "\n",
    "# Flower Pollination Algorithm (FPA)\n",
    "# FPA contains 1 extra parameter\n",
    "\n",
    "P  = 0.8      # switch probability\n",
    "opts = {'k':k, 'fold':fold, 'N':N, 'T':T, 'P':P}\n",
    "\n",
    "# perform feature selection\n",
    "import time\n",
    "start_time = time.time() \n",
    "fmdl = jfs(feat, label, opts)\n",
    "end_time = time.time()\n",
    "sf   = fmdl['sf']\n",
    "\n",
    "# sf is selected_feature\n",
    "sf = fmdl['sf']\n",
    "exe_time = end_time - start_time"
   ]
  },
  {
   "cell_type": "code",
   "execution_count": null,
   "metadata": {},
   "outputs": [],
   "source": [
    "file = open(feature_name, 'a')\n",
    "file.write(str(exe_time) +\",\")\n",
    "file.write(str(len(sf)) +\",\")\n",
    "file.write(\"\\\"\")\n",
    "column_headers = list(X_train.columns.values)\n",
    "for i in sf:\n",
    "  file.write(column_headers[i]+\",\")\n",
    "file.write(\"\\\"\\n\")\n",
    "file.close()"
   ]
  },
  {
   "cell_type": "markdown",
   "metadata": {},
   "source": [
    "## **Selection of feature**"
   ]
  },
  {
   "cell_type": "code",
   "execution_count": null,
   "metadata": {},
   "outputs": [],
   "source": [
    "feature_df = pd.read_csv(feature_name, sep=',', encoding='utf-8')\n",
    "selected_feature = feature_df.iat[0, 3]\n",
    "selected_feature = selected_feature[0:-1]\n",
    "selected_feature"
   ]
  },
  {
   "cell_type": "code",
   "execution_count": null,
   "metadata": {},
   "outputs": [],
   "source": [
    "selected_feature = list(selected_feature.split(\",\"))\n",
    "selected_feature"
   ]
  },
  {
   "cell_type": "code",
   "execution_count": null,
   "metadata": {},
   "outputs": [],
   "source": [
    "X_train = X_train[selected_feature]\n",
    "X_train"
   ]
  },
  {
   "cell_type": "code",
   "execution_count": null,
   "metadata": {},
   "outputs": [],
   "source": [
    "X_test = X_test[selected_feature]\n",
    "X_test"
   ]
  }
 ],
 "metadata": {
  "kernelspec": {
   "display_name": "mtp",
   "language": "python",
   "name": "python3"
  },
  "language_info": {
   "codemirror_mode": {
    "name": "ipython",
    "version": 3
   },
   "file_extension": ".py",
   "mimetype": "text/x-python",
   "name": "python",
   "nbconvert_exporter": "python",
   "pygments_lexer": "ipython3",
   "version": "3.8.17"
  }
 },
 "nbformat": 4,
 "nbformat_minor": 2
}
