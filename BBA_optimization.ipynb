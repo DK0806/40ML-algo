{
 "cells": [
  {
   "cell_type": "markdown",
   "metadata": {},
   "source": [
    "## **IMPORT LIBRARIES**"
   ]
  },
  {
   "cell_type": "code",
   "execution_count": null,
   "metadata": {},
   "outputs": [],
   "source": [
    "# importing required libraries\n",
    "import numpy as np\n",
    "import pandas as pd\n",
    "\n",
    "import seaborn as sns\n",
    "import matplotlib.pyplot as plt\n",
    "import time\n",
    "import os\n",
    "from itertools import combinations\n",
    "\n",
    "import pickle\n",
    "from os import path\n",
    "\n",
    "from sklearn.preprocessing import MinMaxScaler\n",
    "from sklearn.preprocessing import StandardScaler\n",
    "from sklearn.preprocessing import LabelEncoder\n",
    "from sklearn.pipeline import Pipeline\n",
    "from sklearn.metrics import ConfusionMatrixDisplay\n",
    "from sklearn.metrics import multilabel_confusion_matrix\n",
    "from sklearn.metrics import confusion_matrix\n",
    "\n",
    "from sklearn import metrics\n",
    "from sklearn import preprocessing\n",
    "from sklearn.metrics import accuracy_score\n",
    "from sklearn.model_selection import train_test_split\n",
    "from sklearn.metrics import classification_report\n",
    "\n",
    "from sklearn.tree import DecisionTreeClassifier\n"
   ]
  },
  {
   "cell_type": "markdown",
   "metadata": {},
   "source": [
    "## **Importing Datasets**"
   ]
  },
  {
   "cell_type": "code",
   "execution_count": null,
   "metadata": {},
   "outputs": [],
   "source": [
    "filename = \"NF-BOT-IOT\"\n",
    "train_data = pd.read_csv('NF-BOT-IOT_train_preprocessed.csv', sep=',', encoding='utf-8')\n",
    "test_data = pd.read_csv('NF-BOT-IOT_test_preprocessed.csv', sep=',', encoding='utf-8')"
   ]
  },
  {
   "cell_type": "code",
   "execution_count": null,
   "metadata": {},
   "outputs": [],
   "source": [
    "X_train = train_data.drop(columns=['label'],axis=1)\n",
    "y_train = train_data['label']\n",
    "X_test = test_data.drop(columns=['label'],axis=1)\n",
    "y_test = test_data['label']"
   ]
  },
  {
   "cell_type": "markdown",
   "metadata": {},
   "source": [
    "## **Feature selection Wrapper Methods**"
   ]
  },
  {
   "cell_type": "markdown",
   "metadata": {},
   "source": [
    "* Options: (The exact term to be imported is mentioned inside parentheses)\n",
    "* Binary Bat Algorithm (BBA)\n",
    "* Cuckoo Search Algorithm (CS)\n",
    "* Equilibrium Optimizer (EO)\n",
    "* Genetic Algorithm (GA)\n",
    "* Gravitational Search Algorithm (GSA)\n",
    "* Grey Wolf Optimizer (GWO)\n",
    "* Harmony Search (HS)\n",
    "* Mayfly Algorithm (MA)\n",
    "* Particle Swarm Optimization (PSO)\n",
    "* Red Deer Algorithm (RDA)\n",
    "* Sine Cosine Algorithm (SCA)\n",
    "* Whale Optimization Algorithm (WOA)\n",
    "\n",
    "Solution contains the following properties:\n",
    "*   **best_agent** : best feature vector over all the iterations\n",
    "*   **best_fitness** : fitness value of the best_agent\n",
    "*   **best_accuracy** : classification accuracy of the best_agent\n",
    "*   **final_population** : final population of agents\n",
    "*   **final_fitness** : fitness value of the final_population\n",
    "*   **final_accuracy** : classification accuracy of the final_population\n",
    "*   **convergence_curve** : record of fitness and number of features over the course of iteration\n",
    "*   **execution_time** : time required to execute the piece of code"
   ]
  },
  {
   "cell_type": "code",
   "execution_count": null,
   "metadata": {},
   "outputs": [],
   "source": [
    "# %1 of train data taken as input to optimization\n",
    "X_t,temp1,y_t,temp2 = train_test_split(X_train,y_train,train_size=0.01, random_state=7)\n",
    "del temp1,temp2\n",
    "feature_name = filename+\"_BBA_feature.csv\"\n",
    "file = open(feature_name, 'w')\n",
    "file.write(\"optimization,execution time of optimzier,no of feature selected,selected feature \\n\")\n",
    "file.write(\"BAA,\")\n",
    "file.close()"
   ]
  },
  {
   "cell_type": "code",
   "execution_count": null,
   "metadata": {},
   "outputs": [],
   "source": [
    "from Py_FS.wrapper.population_based.BBA import BBA as FS\n",
    "algo = FS(num_agents=30, max_iter=50, train_data=X_t, train_label=y_t\n",
    "          , save_conv_graph=True)\n",
    "results = algo.run()\n",
    "del X_t,y_t"
   ]
  },
  {
   "cell_type": "code",
   "execution_count": null,
   "metadata": {},
   "outputs": [],
   "source": [
    "file = open(feature_name, 'a')\n",
    "file.write(str(results.exec_time) +\",\")\n",
    "cnt = 0\n",
    "for i in results.solution.best_agent:\n",
    "  if i == 1:\n",
    "    cnt+=1\n",
    "file.write(str(cnt) +\",\")\n",
    "file.write(\"\\\"\")\n",
    "column_headers = list(X_train.columns.values)\n",
    "for i in range(len(results.solution.best_agent)):\n",
    "  if results.solution.best_agent[i] == 1:\n",
    "    file.write(column_headers[i]+\",\")\n",
    "file.write(\"\\\"\\n\")\n",
    "file.close()"
   ]
  },
  {
   "cell_type": "markdown",
   "metadata": {},
   "source": [
    "## **Selection of feature**"
   ]
  },
  {
   "cell_type": "code",
   "execution_count": null,
   "metadata": {},
   "outputs": [],
   "source": [
    "feature_df = pd.read_csv(feature_name, sep=',', encoding='utf-8')\n",
    "selected_feature = feature_df.iat[0, 3]\n",
    "selected_feature = selected_feature[0:-1]\n",
    "selected_feature"
   ]
  },
  {
   "cell_type": "code",
   "execution_count": null,
   "metadata": {},
   "outputs": [],
   "source": [
    "selected_feature = list(selected_feature.split(\",\"))\n",
    "selected_feature"
   ]
  },
  {
   "cell_type": "code",
   "execution_count": null,
   "metadata": {},
   "outputs": [],
   "source": [
    "X_train = X_train[selected_feature]\n",
    "X_train"
   ]
  },
  {
   "cell_type": "code",
   "execution_count": null,
   "metadata": {},
   "outputs": [],
   "source": [
    "X_test = X_test[selected_feature]\n",
    "X_test"
   ]
  }
 ],
 "metadata": {
  "kernelspec": {
   "display_name": "mtp",
   "language": "python",
   "name": "python3"
  },
  "language_info": {
   "codemirror_mode": {
    "name": "ipython",
    "version": 3
   },
   "file_extension": ".py",
   "mimetype": "text/x-python",
   "name": "python",
   "nbconvert_exporter": "python",
   "pygments_lexer": "ipython3",
   "version": "3.8.17"
  }
 },
 "nbformat": 4,
 "nbformat_minor": 2
}
